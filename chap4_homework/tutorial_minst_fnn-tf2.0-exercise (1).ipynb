{
 "cells": [
  {
   "cell_type": "markdown",
   "metadata": {},
   "source": [
    "## 准备数据"
   ]
  },
  {
   "cell_type": "code",
   "execution_count": 12,
   "metadata": {},
   "outputs": [],
   "source": [
    "import os\n",
    "import numpy as np\n",
    "import tensorflow as tf\n",
    "from tensorflow import keras\n",
    "from tensorflow.keras import layers, optimizers, datasets\n",
    "\n",
    "os.environ['TF_CPP_MIN_LOG_LEVEL'] = '2'  # or any {'0', '1', '2'}\n",
    "\n",
    "def mnist_dataset():\n",
    "    (x, y), (x_test, y_test) = datasets.mnist.load_data()\n",
    "    #normalize\n",
    "    x = x/255.0\n",
    "    x_test = x_test/255.0\n",
    "    \n",
    "    return (x, y), (x_test, y_test)"
   ]
  },
  {
   "cell_type": "code",
   "execution_count": 13,
   "metadata": {},
   "outputs": [
    {
     "name": "stdout",
     "output_type": "stream",
     "text": [
      "[(1, 'a'), (2, 'b'), (3, 'c'), (4, 'd')]\n"
     ]
    }
   ],
   "source": [
    "print(list(zip([1, 2, 3, 4], ['a', 'b', 'c', 'd'])))"
   ]
  },
  {
   "cell_type": "markdown",
   "metadata": {},
   "source": [
    "## 建立模型"
   ]
  },
  {
   "cell_type": "code",
   "execution_count": 14,
   "metadata": {},
   "outputs": [],
   "source": [
    "class myModel:  \n",
    "    def __init__(self):  \n",
    "        ####################\n",
    "        '''声明模型对应的参数'''\n",
    "        #################### \n",
    "        self.W1 = tf.Variable(tf.random.normal([784, 128]))  \n",
    "        self.b1 = tf.Variable(tf.zeros([128]))  \n",
    "        self.W2 = tf.Variable(tf.random.normal([128, 64]))  \n",
    "        self.b2 = tf.Variable(tf.zeros([64]))  \n",
    "        self.W3 = tf.Variable(tf.random.normal([64, 10]))  \n",
    "        self.b3 = tf.Variable(tf.zeros([10]))  \n",
    "  \n",
    "    def __call__(self, x):  \n",
    "        ####################\n",
    "        '''实现模型函数体，返回未归一化的logits'''\n",
    "        ####################\n",
    "        x = tf.reshape(x, [-1, 784])  \n",
    "          \n",
    "        # Forward pass  \n",
    "        h1 = tf.nn.relu(tf.matmul(x, self.W1) + self.b1)  \n",
    "        h2 = tf.nn.relu(tf.matmul(h1, self.W2) + self.b2)  \n",
    "        logits = tf.matmul(h2, self.W3) + self.b3  \n",
    "          \n",
    "        return logits\n",
    "\n",
    "model = myModel()\n",
    "\n",
    "optimizer = optimizers.Adam()"
   ]
  },
  {
   "cell_type": "markdown",
   "metadata": {},
   "source": [
    "## 计算 loss"
   ]
  },
  {
   "cell_type": "code",
   "execution_count": 15,
   "metadata": {},
   "outputs": [],
   "source": [
    "@tf.function\n",
    "def compute_loss(logits, labels):\n",
    "    return tf.reduce_mean(\n",
    "        tf.nn.sparse_softmax_cross_entropy_with_logits(\n",
    "            logits=logits, labels=labels))\n",
    "\n",
    "@tf.function\n",
    "def compute_accuracy(logits, labels):\n",
    "    predictions = tf.argmax(logits, axis=1)\n",
    "    return tf.reduce_mean(tf.cast(tf.equal(predictions, labels), tf.float32))\n",
    "\n",
    "@tf.function\n",
    "def train_one_step(model, optimizer, x, y):\n",
    "    with tf.GradientTape() as tape:\n",
    "        logits = model(x)\n",
    "        loss = compute_loss(logits, y)\n",
    "\n",
    "    # compute gradient\n",
    "    trainable_vars = [model.W1, model.W2, model.b1, model.b2]\n",
    "    grads = tape.gradient(loss, trainable_vars)\n",
    "    for g, v in zip(grads, trainable_vars):\n",
    "        v.assign_sub(0.01*g)\n",
    "\n",
    "    accuracy = compute_accuracy(logits, y)\n",
    "\n",
    "    # loss and accuracy is scalar tensor\n",
    "    return loss, accuracy\n",
    "\n",
    "@tf.function\n",
    "def test(model, x, y):\n",
    "    logits = model(x)\n",
    "    loss = compute_loss(logits, y)\n",
    "    accuracy = compute_accuracy(logits, y)\n",
    "    return loss, accuracy"
   ]
  },
  {
   "cell_type": "markdown",
   "metadata": {},
   "source": [
    "## 实际训练"
   ]
  },
  {
   "cell_type": "code",
   "execution_count": 16,
   "metadata": {},
   "outputs": [
    {
     "name": "stdout",
     "output_type": "stream",
     "text": [
      "epoch 0 : loss 561.8199 ; accuracy 0.10158333\n",
      "epoch 1 : loss 414.17654 ; accuracy 0.116\n",
      "epoch 2 : loss 348.80893 ; accuracy 0.14235\n",
      "epoch 3 : loss 302.6072 ; accuracy 0.16725\n",
      "epoch 4 : loss 265.53107 ; accuracy 0.19308333\n",
      "epoch 5 : loss 235.23187 ; accuracy 0.21828334\n",
      "epoch 6 : loss 210.67897 ; accuracy 0.24285\n",
      "epoch 7 : loss 190.9665 ; accuracy 0.26843333\n",
      "epoch 8 : loss 175.08167 ; accuracy 0.29186666\n",
      "epoch 9 : loss 162.07068 ; accuracy 0.31295\n",
      "epoch 10 : loss 151.29282 ; accuracy 0.33306667\n",
      "epoch 11 : loss 142.27943 ; accuracy 0.35006666\n",
      "epoch 12 : loss 134.55345 ; accuracy 0.36691666\n",
      "epoch 13 : loss 127.85699 ; accuracy 0.38213333\n",
      "epoch 14 : loss 121.955376 ; accuracy 0.39558333\n",
      "epoch 15 : loss 116.71594 ; accuracy 0.40725\n",
      "epoch 16 : loss 112.02459 ; accuracy 0.4182\n",
      "epoch 17 : loss 107.81037 ; accuracy 0.42843333\n",
      "epoch 18 : loss 103.984535 ; accuracy 0.43835\n",
      "epoch 19 : loss 100.48204 ; accuracy 0.44741666\n",
      "epoch 20 : loss 97.27261 ; accuracy 0.45595\n",
      "epoch 21 : loss 94.314156 ; accuracy 0.46353334\n",
      "epoch 22 : loss 91.569565 ; accuracy 0.47135\n",
      "epoch 23 : loss 89.01501 ; accuracy 0.47833332\n",
      "epoch 24 : loss 86.62673 ; accuracy 0.48443332\n",
      "epoch 25 : loss 84.38807 ; accuracy 0.49116668\n",
      "epoch 26 : loss 82.29142 ; accuracy 0.4975\n",
      "epoch 27 : loss 80.32222 ; accuracy 0.5038\n",
      "epoch 28 : loss 78.474365 ; accuracy 0.5099\n",
      "epoch 29 : loss 76.736 ; accuracy 0.51515\n",
      "epoch 30 : loss 75.090935 ; accuracy 0.51995\n",
      "epoch 31 : loss 73.532974 ; accuracy 0.52575\n",
      "epoch 32 : loss 72.05925 ; accuracy 0.53085\n",
      "epoch 33 : loss 70.66176 ; accuracy 0.53533334\n",
      "epoch 34 : loss 69.33593 ; accuracy 0.5398167\n",
      "epoch 35 : loss 68.069824 ; accuracy 0.54373336\n",
      "epoch 36 : loss 66.85957 ; accuracy 0.54826665\n",
      "epoch 37 : loss 65.70215 ; accuracy 0.55195\n",
      "epoch 38 : loss 64.59462 ; accuracy 0.5561\n",
      "epoch 39 : loss 63.53405 ; accuracy 0.56015\n",
      "epoch 40 : loss 62.51755 ; accuracy 0.5639667\n",
      "epoch 41 : loss 61.54086 ; accuracy 0.5673\n",
      "epoch 42 : loss 60.600307 ; accuracy 0.5707667\n",
      "epoch 43 : loss 59.69431 ; accuracy 0.5743333\n",
      "epoch 44 : loss 58.82374 ; accuracy 0.57781667\n",
      "epoch 45 : loss 57.987366 ; accuracy 0.581\n",
      "epoch 46 : loss 57.184875 ; accuracy 0.5846\n",
      "epoch 47 : loss 56.412544 ; accuracy 0.58788335\n",
      "epoch 48 : loss 55.668064 ; accuracy 0.59101665\n",
      "epoch 49 : loss 54.950226 ; accuracy 0.59396666\n",
      "epoch 50 : loss 54.257812 ; accuracy 0.5969333\n",
      "epoch 51 : loss 53.5901 ; accuracy 0.59975\n",
      "epoch 52 : loss 52.94326 ; accuracy 0.60228336\n",
      "epoch 53 : loss 52.316612 ; accuracy 0.60468334\n",
      "epoch 54 : loss 51.708782 ; accuracy 0.6073167\n",
      "epoch 55 : loss 51.119938 ; accuracy 0.60971665\n",
      "epoch 56 : loss 50.547775 ; accuracy 0.61216664\n",
      "epoch 57 : loss 49.99305 ; accuracy 0.61473334\n",
      "epoch 58 : loss 49.45607 ; accuracy 0.61738336\n",
      "epoch 59 : loss 48.93635 ; accuracy 0.6199\n",
      "epoch 60 : loss 48.433926 ; accuracy 0.6220667\n",
      "epoch 61 : loss 47.94689 ; accuracy 0.6246667\n",
      "epoch 62 : loss 47.474968 ; accuracy 0.62685\n",
      "epoch 63 : loss 47.016006 ; accuracy 0.6289\n",
      "epoch 64 : loss 46.569286 ; accuracy 0.63098335\n",
      "epoch 65 : loss 46.133907 ; accuracy 0.63296664\n",
      "epoch 66 : loss 45.709274 ; accuracy 0.6350833\n",
      "epoch 67 : loss 45.29499 ; accuracy 0.63678336\n",
      "epoch 68 : loss 44.890717 ; accuracy 0.6390667\n",
      "epoch 69 : loss 44.49543 ; accuracy 0.64091665\n",
      "epoch 70 : loss 44.109158 ; accuracy 0.6433\n",
      "epoch 71 : loss 43.732082 ; accuracy 0.6451333\n",
      "epoch 72 : loss 43.3639 ; accuracy 0.64685\n",
      "epoch 73 : loss 43.003975 ; accuracy 0.6482667\n",
      "epoch 74 : loss 42.651684 ; accuracy 0.64968336\n",
      "epoch 75 : loss 42.30679 ; accuracy 0.6516\n",
      "epoch 76 : loss 41.96876 ; accuracy 0.6533833\n",
      "epoch 77 : loss 41.638607 ; accuracy 0.6551167\n",
      "epoch 78 : loss 41.315735 ; accuracy 0.6568\n",
      "epoch 79 : loss 40.999866 ; accuracy 0.6584333\n",
      "test loss 39.11805 ; accuracy 0.6662\n"
     ]
    }
   ],
   "source": [
    "train_data, test_data = mnist_dataset()\n",
    "for epoch in range(80):\n",
    "    loss, accuracy = train_one_step(model, optimizer, \n",
    "                                    tf.constant(train_data[0], dtype=tf.float32), \n",
    "                                    tf.constant(train_data[1], dtype=tf.int64))\n",
    "    print('epoch', epoch, ': loss', loss.numpy(), '; accuracy', accuracy.numpy())\n",
    "loss, accuracy = test(model, \n",
    "                      tf.constant(test_data[0], dtype=tf.float32), \n",
    "                      tf.constant(test_data[1], dtype=tf.int64))\n",
    "\n",
    "print('test loss', loss.numpy(), '; accuracy', accuracy.numpy())"
   ]
  },
  {
   "cell_type": "code",
   "execution_count": null,
   "metadata": {},
   "outputs": [],
   "source": []
  }
 ],
 "metadata": {
  "kernelspec": {
   "display_name": "Python 3 (ipykernel)",
   "language": "python",
   "name": "python3"
  },
  "language_info": {
   "codemirror_mode": {
    "name": "ipython",
    "version": 3
   },
   "file_extension": ".py",
   "mimetype": "text/x-python",
   "name": "python",
   "nbconvert_exporter": "python",
   "pygments_lexer": "ipython3",
   "version": "3.10.2"
  }
 },
 "nbformat": 4,
 "nbformat_minor": 4
}
