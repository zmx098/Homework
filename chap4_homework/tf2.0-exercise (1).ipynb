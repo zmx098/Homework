{
 "cells": [
  {
   "cell_type": "markdown",
   "metadata": {},
   "source": [
    "# Tensorflow2.0 小练习"
   ]
  },
  {
   "cell_type": "code",
   "execution_count": 1,
   "metadata": {},
   "outputs": [],
   "source": [
    "import tensorflow as tf\n",
    "import numpy as np"
   ]
  },
  {
   "cell_type": "markdown",
   "metadata": {},
   "source": [
    "## 实现softmax函数"
   ]
  },
  {
   "cell_type": "code",
   "execution_count": 2,
   "metadata": {},
   "outputs": [
    {
     "name": "stdout",
     "output_type": "stream",
     "text": [
      "true\n"
     ]
    }
   ],
   "source": [
    "def softmax(x):  \n",
    "    ##########\n",
    "    '''实现softmax函数，只要求对最后一维归一化，\n",
    "    不允许用tf自带的softmax函数'''\n",
    "    ##########\n",
    "    # 对输入数组的最后一维计算指数  \n",
    "    exps = np.exp(x - np.max(x, axis=-1, keepdims=True))  \n",
    "    # 归一化  \n",
    "    prob_x = exps / np.sum(exps, axis=-1, keepdims=True)  \n",
    "    return prob_x  \n",
    "  \n",
    "# 生成测试数据  \n",
    "test_data = np.random.normal(size=[10, 5])  \n",
    "# 计算实现的softmax函数与tensorflow中softmax函数的差异  \n",
    "difference = (softmax(test_data) - tf.nn.softmax(test_data, axis=-1).numpy())**2  \n",
    "# 检查差异是否小于0.0001  \n",
    "if(np.all(difference < 0.0001)):\n",
    "    print('true')"
   ]
  },
  {
   "cell_type": "markdown",
   "metadata": {},
   "source": [
    "## 实现sigmoid函数"
   ]
  },
  {
   "cell_type": "code",
   "execution_count": 3,
   "metadata": {},
   "outputs": [
    {
     "name": "stdout",
     "output_type": "stream",
     "text": [
      "true\n"
     ]
    }
   ],
   "source": [
    "def sigmoid(x):\n",
    "    ##########\n",
    "    '''实现sigmoid函数， 不允许用tf自带的sigmoid函数'''\n",
    "    ##########\n",
    "    prob_x = 1 / (1 + np.exp(-x))  \n",
    "    return prob_x  \n",
    "  \n",
    "test_data = np.random.normal(size=[10, 5])  \n",
    "difference = (sigmoid(test_data) - tf.nn.sigmoid(test_data).numpy())**2  \n",
    "  \n",
    "# 检查差异是否小于0.0001  \n",
    "if(np.all(difference < 0.0001)):\n",
    "    print('true')"
   ]
  },
  {
   "cell_type": "markdown",
   "metadata": {},
   "source": [
    "## 实现 softmax 交叉熵loss函数"
   ]
  },
  {
   "cell_type": "code",
   "execution_count": 4,
   "metadata": {},
   "outputs": [
    {
     "name": "stdout",
     "output_type": "stream",
     "text": [
      "true\n"
     ]
    }
   ],
   "source": [
    "def softmax_ce(x, label):\n",
    "    ##########\n",
    "    '''实现 softmax 交叉熵loss函数， 不允许用tf自带的softmax_cross_entropy函数'''\n",
    "    ##########\n",
    "    # 计算softmax概率  \n",
    "    prob = np.exp(x) / np.sum(np.exp(x), axis=-1, keepdims=True)  \n",
    "    \n",
    "    # 计算交叉熵损失  \n",
    "    loss = -np.sum(label * np.log(prob), axis=-1)  \n",
    "          \n",
    "    # 取平均损失  \n",
    "    loss = np.mean(loss) \n",
    "    \n",
    "    return loss\n",
    "    \n",
    "\n",
    "test_data = np.random.normal(size=[10, 5])\n",
    "prob = tf.nn.softmax(test_data)\n",
    "label = np.zeros_like(test_data)\n",
    "label[np.arange(10), np.random.randint(0, 5, size=10)]=1.\n",
    "\n",
    "# 计算自定义softmax交叉熵损失函数和TensorFlow的softmax交叉熵损失函数的差异  \n",
    "custom_loss = softmax_ce(test_data, label)  \n",
    "tf_loss = tf.reduce_mean(tf.nn.softmax_cross_entropy_with_logits(labels=label, logits=test_data))  \n",
    "\n",
    "# ((tf.reduce_mean(tf.nn.softmax_cross_entropy_with_logits(label, test_data))\n",
    "#   - softmax_ce(prob, label))**2 < 0.0001).numpy()\n",
    "\n",
    "# 检查差异是否小于0.0001  \n",
    "if(np.abs(custom_loss - tf_loss.numpy()) < 0.0001):\n",
    "    print('true')"
   ]
  },
  {
   "cell_type": "markdown",
   "metadata": {},
   "source": [
    "## 实现 sigmoid 交叉熵loss函数"
   ]
  },
  {
   "cell_type": "code",
   "execution_count": 13,
   "metadata": {},
   "outputs": [
    {
     "name": "stdout",
     "output_type": "stream",
     "text": [
      "[0. 1. 1. 0. 0. 0. 0. 1. 1. 1.]\n"
     ]
    },
    {
     "data": {
      "text/plain": [
       "False"
      ]
     },
     "execution_count": 13,
     "metadata": {},
     "output_type": "execute_result"
    }
   ],
   "source": [
    "def sigmoid_ce(x, label):\n",
    "    ##########\n",
    "    '''实现 softmax 交叉熵loss函数， 不允许用tf自带的softmax_cross_entropy函数'''\n",
    "    ##########\n",
    "    prob = 1 / (1 + np.exp(-x))  \n",
    "      \n",
    "    # 避免log(0)的情况，给prob加上一个小的常数（如1e-15）  \n",
    "    epsilon = 1e-15  \n",
    "    prob = np.clip(prob, epsilon, 1.0 - epsilon)  \n",
    "      \n",
    "    # 计算交叉熵损失  \n",
    "    loss = -np.sum(label * np.log(prob) + (1 - label) * np.log(1 - prob))  \n",
    "      \n",
    "    # 取平均损失  \n",
    "    loss = loss / len(label)  \n",
    "    return loss\n",
    "\n",
    "test_data = np.random.normal(size=[10])\n",
    "prob = tf.nn.sigmoid(test_data)\n",
    "label = np.random.randint(0, 2, 10).astype(test_data.dtype)\n",
    "print (label)\n",
    "\n",
    "((tf.reduce_mean(tf.nn.sigmoid_cross_entropy_with_logits(label, test_data))- sigmoid_ce(prob, label))**2 < 0.0001).numpy()\n"
   ]
  }
 ],
 "metadata": {
  "kernelspec": {
   "display_name": "Python 3 (ipykernel)",
   "language": "python",
   "name": "python3"
  },
  "language_info": {
   "codemirror_mode": {
    "name": "ipython",
    "version": 3
   },
   "file_extension": ".py",
   "mimetype": "text/x-python",
   "name": "python",
   "nbconvert_exporter": "python",
   "pygments_lexer": "ipython3",
   "version": "3.10.2"
  }
 },
 "nbformat": 4,
 "nbformat_minor": 4
}
